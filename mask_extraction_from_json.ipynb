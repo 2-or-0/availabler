{
  "nbformat": 4,
  "nbformat_minor": 0,
  "metadata": {
    "colab": {
      "name": "mask extraction from json.ipynb",
      "provenance": [],
      "collapsed_sections": []
    },
    "kernelspec": {
      "name": "python3",
      "display_name": "Python 3"
    }
  },
  "cells": [
    {
      "cell_type": "markdown",
      "metadata": {
        "id": "5CNKTYUxlTy-"
      },
      "source": [
        "# **Cloning from Repository, Settings**"
      ]
    },
    {
      "cell_type": "code",
      "metadata": {
        "id": "_tuYs7zgi0gg"
      },
      "source": [
        "from google.colab import gdrive\n",
        "drive.mount('/content/gdrive/')\n",
        "\n",
        "cd /content/gdrive/My drive/data"
      ],
      "execution_count": null,
      "outputs": []
    },
    {
      "cell_type": "code",
      "metadata": {
        "id": "mP5VJIJ2R6Kz"
      },
      "source": [
        "import os\n",
        "import io\n",
        "import sys\n",
        "import argparse\n",
        "import json\n",
        "import numpy as np\n",
        "import glob\n",
        "import PIL.Image\n",
        "import requests\n",
        "\n",
        "json_file = os.path.abspath(\"../content/mask.json\")\n",
        "ROOT_DIR = os.path.abspath(\"../content/drive/MyDrive/availabler_mask/\")\n",
        "\n",
        "required_images = [\"023\",\"035\",\"037\",\"046\",\"049\",\"058\",\"060\",\"062\",\"063\",\"065\",\"066\",\"069\",\"072\",\"075\",\"077\",\"088\",\"090\",\"091\",\"092\",\"094\",\"095\",\"096\",\"097\",\"102\",\"108\",\"123\",\"124\",\"128\",\"130\",\"131\",\"133\",\"134\",\"136\",\"144\",\"146\",\"151\",\"152\",\"153\",\"161\",\"162\",\"163\",\"171\",\"188\",\"191\",\"193\",\"194\",\"195\",\"198\",\"206\",\"208\",\"218\",\"220\"]\n",
        "with open(json_file, \"r\") as f:\n",
        "  data = json.load(f)\n",
        "\n",
        "for single_image in data :\n",
        "  image_name = single_image[\"External ID\"]\n",
        "  image_name = ''.join(image_name.split())[:-4]\n",
        "  if image_name[-3:] in required_images:\n",
        "    DIR=os.path.join(ROOT_DIR, image_name)\n",
        "    if os.path.isdir(DIR)==False:\n",
        "      os.mkdir(DIR)\n",
        "    \n",
        "    if not single_image[\"Label\"] == {}:\n",
        "      for i, mask in enumerate(single_image[\"Label\"][\"objects\"]):\n",
        "        mask_name=mask[\"instanceURI\"]\n",
        "        response = requests.get(mask[\"instanceURI\"])\n",
        "        image_bytes = io.BytesIO(response.content)\n",
        "        img = PIL.Image.open(image_bytes)\n",
        "\n",
        "        img = img.convert(\"RGBA\")\n",
        "        datas = img.getdata()\n",
        "        newData = []\n",
        "        for item in datas:\n",
        "          if item[0] == 255 and item[1] == 255 and item[2] == 255:\n",
        "            newData.append((0, 0,0, 255))\n",
        "          else:\n",
        "            newData.append((0, 0, 0, 0))\n",
        "        img.putdata(newData)\n",
        "        sys.path.append(DIR)\n",
        "        img.save(os.path.join(DIR,f\"result{i}.png\"), \"PNG\")\n",
        "    "
      ],
      "execution_count": 1,
      "outputs": []
    }
  ]
}